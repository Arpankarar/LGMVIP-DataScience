{
 "cells": [
  {
   "cell_type": "markdown",
   "id": "753dea36",
   "metadata": {},
   "source": [
    "importing the required modules"
   ]
  },
  {
   "cell_type": "code",
   "execution_count": 1,
   "id": "4d18de49",
   "metadata": {},
   "outputs": [],
   "source": [
    "import numpy as np\n",
    "import pandas as pd\n",
    "import matplotlib.pyplot as ply\n",
    "import cv2\n",
    "import os\n",
    "from os import listdir\n",
    "from os.path import isfile,join\n",
    "from PIL import Image"
   ]
  },
  {
   "cell_type": "markdown",
   "id": "a21d9aa7",
   "metadata": {},
   "source": [
    "function to add the files for images into a folder for furture classification into training and testing dataset after resizing them."
   ]
  },
  {
   "cell_type": "code",
   "execution_count": 2,
   "id": "c17690a9",
   "metadata": {},
   "outputs": [],
   "source": [
    "def load_images_from_folder(folder):\n",
    "    train_data=[]\n",
    "    for filename in os.listdir(folder):\n",
    "        img=cv2.imread(os.path.join(folder,filename),cv2.IMREAD_GRAYSCALE)\n",
    "        img=~img\n",
    "        if img is not None:\n",
    "            _,thresh=cv2.threshold(img,127,255,cv2.THRESH_BINARY)\n",
    "            ctrs,_=cv2.findContours(thresh,cv2.RETR_EXTERNAL,cv2.CHAIN_APPROX_NONE)\n",
    "            cnt=sorted(ctrs,key=lambda ctr:cv2.boundingRect(ctr)[0])\n",
    "            w=int(28)\n",
    "            h=int(28)\n",
    "            maxi=0\n",
    "            for c in cnt:\n",
    "                x,y,w,h=cv2.boundingRect(c)\n",
    "                maxi=max(w*h,maxi)\n",
    "                if maxi==w*h:\n",
    "                    x_max=x\n",
    "                    y_max=y\n",
    "                    w_max=w\n",
    "                    h_max=h\n",
    "            im_crop=thresh[y_max:y_max+h_max+10,x_max:x_max+w_max+10]\n",
    "            im_resize=cv2.resize(im_crop,(28,28))\n",
    "            im_resize=np.reshape(im_resize,(784,1))\n",
    "            \n",
    "            train_data.append(im_resize)\n",
    "    return train_data\n",
    "                "
   ]
  },
  {
   "cell_type": "code",
   "execution_count": 3,
   "id": "cbd9668f",
   "metadata": {},
   "outputs": [],
   "source": [
    "data=[]"
   ]
  },
  {
   "cell_type": "code",
   "execution_count": 6,
   "id": "1dcc1403",
   "metadata": {},
   "outputs": [
    {
     "name": "stdout",
     "output_type": "stream",
     "text": [
      "5985\n"
     ]
    }
   ],
   "source": [
    "data=load_images_from_folder(\"C:/Users/LENOVO/OneDrive/Desktop/task3 Handwritten equation solver using CNN/my_dataset/-\")\n",
    "len(data)\n",
    "for i in range(0,len(data)):\n",
    "    data[i]=np.append(data[i],[\"10\"])\n",
    "print(len(data))\n"
   ]
  },
  {
   "cell_type": "code",
   "execution_count": 7,
   "id": "baf5548c",
   "metadata": {},
   "outputs": [
    {
     "name": "stdout",
     "output_type": "stream",
     "text": [
      "11414\n"
     ]
    }
   ],
   "source": [
    "data0=load_images_from_folder(\"C:/Users/LENOVO/OneDrive/Desktop/task3 Handwritten equation solver using CNN/my_dataset/+\")\n",
    "len(data)\n",
    "for i in range(0,len(data0)):\n",
    "    data0[i]=np.append(data0[i],[\"11\"])\n",
    "data=np.concatenate((data,data0))\n",
    "print(len(data))"
   ]
  },
  {
   "cell_type": "code",
   "execution_count": 8,
   "id": "274ff645",
   "metadata": {},
   "outputs": [
    {
     "name": "stdout",
     "output_type": "stream",
     "text": [
      "18328\n"
     ]
    }
   ],
   "source": [
    "data1=load_images_from_folder(\"C:/Users/LENOVO/OneDrive/Desktop/task3 Handwritten equation solver using CNN/my_dataset/0\")\n",
    "len(data)\n",
    "for i in range(0,len(data1)):\n",
    "    data1[i]=np.append(data1[i],[\"0\"])\n",
    "data=np.concatenate((data,data1))\n",
    "print(len(data))"
   ]
  },
  {
   "cell_type": "code",
   "execution_count": 9,
   "id": "2f699574",
   "metadata": {},
   "outputs": [
    {
     "name": "stdout",
     "output_type": "stream",
     "text": [
      "24184\n"
     ]
    }
   ],
   "source": [
    "data2=load_images_from_folder(\"C:/Users/LENOVO/OneDrive/Desktop/task3 Handwritten equation solver using CNN/my_dataset/1\")\n",
    "len(data)\n",
    "for i in range(0,len(data2)):\n",
    "    data2[i]=np.append(data2[i],[\"1\"])\n",
    "data=np.concatenate((data,data2))\n",
    "print(len(data))"
   ]
  },
  {
   "cell_type": "code",
   "execution_count": 10,
   "id": "b375ab05",
   "metadata": {},
   "outputs": [
    {
     "name": "stdout",
     "output_type": "stream",
     "text": [
      "30489\n"
     ]
    }
   ],
   "source": [
    "data3=load_images_from_folder(\"C:/Users/LENOVO/OneDrive/Desktop/task3 Handwritten equation solver using CNN/my_dataset/2\")\n",
    "len(data)\n",
    "for i in range(0,len(data3)):\n",
    "    data3[i]=np.append(data3[i],[\"2\"])\n",
    "data=np.concatenate((data,data3))\n",
    "print(len(data))"
   ]
  },
  {
   "cell_type": "code",
   "execution_count": 11,
   "id": "eba93e7f",
   "metadata": {},
   "outputs": [
    {
     "name": "stdout",
     "output_type": "stream",
     "text": [
      "35377\n"
     ]
    }
   ],
   "source": [
    "data4=load_images_from_folder(\"C:/Users/LENOVO/OneDrive/Desktop/task3 Handwritten equation solver using CNN/my_dataset/3\")\n",
    "len(data)\n",
    "for i in range(0,len(data4)):\n",
    "    data4[i]=np.append(data4[i],[\"3\"])\n",
    "data=np.concatenate((data,data4))\n",
    "print(len(data))"
   ]
  },
  {
   "cell_type": "code",
   "execution_count": 12,
   "id": "b42a5dbf",
   "metadata": {},
   "outputs": [
    {
     "name": "stdout",
     "output_type": "stream",
     "text": [
      "39542\n"
     ]
    }
   ],
   "source": [
    "data5=load_images_from_folder(\"C:/Users/LENOVO/OneDrive/Desktop/task3 Handwritten equation solver using CNN/my_dataset/4\")\n",
    "len(data)\n",
    "for i in range(0,len(data5)):\n",
    "    data5[i]=np.append(data5[i],[\"4\"])\n",
    "data=np.concatenate((data,data5))\n",
    "print(len(data))"
   ]
  },
  {
   "cell_type": "code",
   "execution_count": 13,
   "id": "91104b68",
   "metadata": {},
   "outputs": [
    {
     "name": "stdout",
     "output_type": "stream",
     "text": [
      "43087\n"
     ]
    }
   ],
   "source": [
    "data6=load_images_from_folder(\"C:/Users/LENOVO/OneDrive/Desktop/task3 Handwritten equation solver using CNN/my_dataset/5\")\n",
    "len(data)\n",
    "for i in range(0,len(data6)):\n",
    "    data6[i]=np.append(data6[i],[\"5\"])\n",
    "data=np.concatenate((data,data6))\n",
    "print(len(data))"
   ]
  },
  {
   "cell_type": "code",
   "execution_count": 14,
   "id": "9695f458",
   "metadata": {},
   "outputs": [
    {
     "name": "stdout",
     "output_type": "stream",
     "text": [
      "46205\n"
     ]
    }
   ],
   "source": [
    "data7=load_images_from_folder(\"C:/Users/LENOVO/OneDrive/Desktop/task3 Handwritten equation solver using CNN/my_dataset/6\")\n",
    "len(data)\n",
    "for i in range(0,len(data7)):\n",
    "    data7[i]=np.append(data7[i],[\"6\"])\n",
    "data=np.concatenate((data,data7))\n",
    "print(len(data))"
   ]
  },
  {
   "cell_type": "code",
   "execution_count": 15,
   "id": "939cee8c",
   "metadata": {},
   "outputs": [
    {
     "name": "stdout",
     "output_type": "stream",
     "text": [
      "49114\n"
     ]
    }
   ],
   "source": [
    "data8=load_images_from_folder(\"C:/Users/LENOVO/OneDrive/Desktop/task3 Handwritten equation solver using CNN/my_dataset/7\")\n",
    "len(data)\n",
    "for i in range(0,len(data8)):\n",
    "    data8[i]=np.append(data8[i],[\"7\"])\n",
    "data=np.concatenate((data,data8))\n",
    "print(len(data))"
   ]
  },
  {
   "cell_type": "code",
   "execution_count": 16,
   "id": "f030e44a",
   "metadata": {},
   "outputs": [
    {
     "name": "stdout",
     "output_type": "stream",
     "text": [
      "52182\n"
     ]
    }
   ],
   "source": [
    "data9=load_images_from_folder(\"C:/Users/LENOVO/OneDrive/Desktop/task3 Handwritten equation solver using CNN/my_dataset/8\")\n",
    "len(data)\n",
    "for i in range(0,len(data9)):\n",
    "    data9[i]=np.append(data9[i],[\"8\"])\n",
    "data=np.concatenate((data,data9))\n",
    "print(len(data))"
   ]
  },
  {
   "cell_type": "code",
   "execution_count": 17,
   "id": "7529d30a",
   "metadata": {},
   "outputs": [
    {
     "name": "stdout",
     "output_type": "stream",
     "text": [
      "55919\n"
     ]
    }
   ],
   "source": [
    "data10=load_images_from_folder(\"C:/Users/LENOVO/OneDrive/Desktop/task3 Handwritten equation solver using CNN/my_dataset/9\")\n",
    "len(data)\n",
    "for i in range(0,len(data10)):\n",
    "    data10[i]=np.append(data10[i],[\"9\"])\n",
    "data=np.concatenate((data,data10))\n",
    "print(len(data))"
   ]
  },
  {
   "cell_type": "code",
   "execution_count": 18,
   "id": "dabb5333",
   "metadata": {},
   "outputs": [
    {
     "name": "stdout",
     "output_type": "stream",
     "text": [
      "59170\n"
     ]
    }
   ],
   "source": [
    "data11=load_images_from_folder(\"C:/Users/LENOVO/OneDrive/Desktop/task3 Handwritten equation solver using CNN/my_dataset/times\")\n",
    "len(data)\n",
    "for i in range(0,len(data11)):\n",
    "    data11[i]=np.append(data11[i],[\"12\"])\n",
    "data=np.concatenate((data,data11))\n",
    "print(len(data))"
   ]
  },
  {
   "cell_type": "code",
   "execution_count": 20,
   "id": "88efeebc",
   "metadata": {},
   "outputs": [],
   "source": [
    "df=pd.DataFrame(data,index=None)\n",
    "df.to_csv('train_final.csv',index=False)"
   ]
  },
  {
   "cell_type": "code",
   "execution_count": null,
   "id": "35fc99b5",
   "metadata": {},
   "outputs": [],
   "source": []
  }
 ],
 "metadata": {
  "kernelspec": {
   "display_name": "Python 3",
   "language": "python",
   "name": "python3"
  },
  "language_info": {
   "codemirror_mode": {
    "name": "ipython",
    "version": 3
   },
   "file_extension": ".py",
   "mimetype": "text/x-python",
   "name": "python",
   "nbconvert_exporter": "python",
   "pygments_lexer": "ipython3",
   "version": "3.8.10"
  }
 },
 "nbformat": 4,
 "nbformat_minor": 5
}
